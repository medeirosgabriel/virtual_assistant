{
  "cells": [
    {
      "cell_type": "markdown",
      "metadata": {
        "id": "jKos8BTF_efL"
      },
      "source": [
        "# Training Rasa"
      ]
    },
    {
      "cell_type": "code",
      "execution_count": null,
      "metadata": {
        "id": "Qdqglb2t5_Gt"
      },
      "outputs": [],
      "source": [
        "!pip install rasa==1.10.3\n",
        "#!pip install pandas==0.22.0\n",
        "#!pip install sklearn_crfsuite==0.3.6\n",
        "#!pip install --force-reinstall virtualenv\n",
        "#!pip install prompt-toolkit==1.0.15"
      ]
    },
    {
      "cell_type": "code",
      "execution_count": null,
      "metadata": {
        "colab": {
          "base_uri": "https://localhost:8080/"
        },
        "id": "zihaI4Qddqw1",
        "outputId": "6f37ff91-51bc-40b9-b278-4b0e07d119ae"
      },
      "outputs": [
        {
          "name": "stdout",
          "output_type": "stream",
          "text": [
            "Event loop ready.\n"
          ]
        }
      ],
      "source": [
        "import nest_asyncio\n",
        "nest_asyncio.apply()\n",
        "print(\"Event loop ready.\")"
      ]
    },
    {
      "cell_type": "code",
      "execution_count": null,
      "metadata": {
        "id": "QTImBR7-dmws"
      },
      "outputs": [],
      "source": [
        "import rasa\n",
        "from rasa.cli.scaffold import create_initial_project\n",
        "project = \"test\"\n",
        "create_initial_project(project)"
      ]
    },
    {
      "cell_type": "code",
      "execution_count": null,
      "metadata": {
        "id": "CG0YEx8cjK3r"
      },
      "outputs": [],
      "source": [
        "from google.colab import files\n",
        "files.upload()"
      ]
    },
    {
      "cell_type": "code",
      "execution_count": null,
      "metadata": {
        "colab": {
          "base_uri": "https://localhost:8080/"
        },
        "id": "4XRwaDro9Pjc",
        "outputId": "5c71e344-110d-4a5e-808d-ccddc306de0d"
      },
      "outputs": [
        {
          "name": "stderr",
          "output_type": "stream",
          "text": [
            "/usr/local/lib/python3.7/dist-packages/rasa/nlu/classifiers/diet_classifier.py:595: VisibleDeprecationWarning: Creating an ndarray from ragged nested sequences (which is a list-or-tuple of lists-or-tuples-or ndarrays with different lengths or shapes) is deprecated. If you meant to do this, you must specify 'dtype=object' when creating the ndarray.\n",
            "  for tag_name, tag_ids in tag_name_to_tag_ids.items()\n",
            "\u001b[93m/usr/local/lib/python3.7/dist-packages/rasa/utils/common.py:363: UserWarning: Misaligned entity annotation in message 'For the playlist this is mozart add Nana Mizuki Live Fighter -Blue x Red Side-' with intent 'AddToPlaylist'. Make sure the start and end values of entities in the training data match the token boundaries (e.g. entities don't include trailing whitespaces or punctuation).\n",
            "  More info at https://rasa.com/docs/rasa/nlu/training-data-format/\n",
            "\u001b[0m\u001b[93m/usr/local/lib/python3.7/dist-packages/rasa/utils/common.py:363: UserWarning: Misaligned entity annotation in message 'add Run Rudolph Run to my rockin' playlist' with intent 'AddToPlaylist'. Make sure the start and end values of entities in the training data match the token boundaries (e.g. entities don't include trailing whitespaces or punctuation).\n",
            "  More info at https://rasa.com/docs/rasa/nlu/training-data-format/\n",
            "Epochs:   0%|          | 0/50 [00:00<?, ?it/s]/usr/local/lib/python3.7/dist-packages/rasa/utils/tensorflow/model_data.py:386: VisibleDeprecationWarning: Creating an ndarray from ragged nested sequences (which is a list-or-tuple of lists-or-tuples-or ndarrays with different lengths or shapes) is deprecated. If you meant to do this, you must specify 'dtype=object' when creating the ndarray.\n",
            "  final_data[k].append(np.concatenate(np.array(v)))\n",
            "Epochs: 100%|██████████| 50/50 [01:45<00:00,  2.12s/it, t_loss=2.703, i_loss=0.000, entity_loss=0.087, i_acc=1.000, entity_f1=0.965]\n"
          ]
        }
      ],
      "source": [
        "from rasa.nlu.training_data import load_data\n",
        "from rasa.nlu.config import RasaNLUModelConfig\n",
        "from rasa.nlu.model import Trainer\n",
        "from rasa.nlu import config\n",
        "\n",
        "training_data = load_data('/content/music_intent_entities.json')\n",
        "trainer = Trainer(config.load(\"/content/test/config.yml\"))\n",
        "trainer.train(training_data)\n",
        "model_directory = trainer.persist('./projects/default/')"
      ]
    },
    {
      "cell_type": "code",
      "execution_count": null,
      "metadata": {
        "colab": {
          "base_uri": "https://localhost:8080/"
        },
        "id": "fCgB_-VN-EcY",
        "outputId": "fd290bbb-f9bc-42ca-f15e-047d441f05d4"
      },
      "outputs": [
        {
          "name": "stdout",
          "output_type": "stream",
          "text": [
            "WARNING:tensorflow:From /usr/local/lib/python3.7/dist-packages/tensorflow_core/python/ops/array_grad.py:563: _EagerTensorBase.cpu (from tensorflow.python.framework.ops) is deprecated and will be removed in a future version.\n",
            "Instructions for updating:\n",
            "Use tf.identity instead.\n"
          ]
        }
      ],
      "source": [
        "from rasa.nlu.model import Metadata, Interpreter\n",
        "interpreter = Interpreter.load(model_directory)"
      ]
    },
    {
      "cell_type": "code",
      "execution_count": null,
      "metadata": {
        "colab": {
          "base_uri": "https://localhost:8080/"
        },
        "id": "JVZo0FKq-Ee8",
        "outputId": "816e2647-8b7b-43f3-a2be-72e8da7d89d2"
      },
      "outputs": [
        {
          "data": {
            "text/plain": [
              "{'entities': [{'end': 13,\n",
              "   'entity': 'entity_name',\n",
              "   'extractor': 'DIETClassifier',\n",
              "   'start': 4,\n",
              "   'value': 'Starships'},\n",
              "  {'end': 20,\n",
              "   'entity': 'playlist',\n",
              "   'extractor': 'DIETClassifier',\n",
              "   'start': 17,\n",
              "   'value': 'pop'}],\n",
              " 'intent': {'confidence': 0.9999999403953552, 'name': 'AddToPlaylist'},\n",
              " 'intent_ranking': [{'confidence': 0.9999999403953552,\n",
              "   'name': 'AddToPlaylist'},\n",
              "  {'confidence': 6.154597542717966e-08, 'name': 'AddToPlaylist2'}],\n",
              " 'response_selector': {'default': {'full_retrieval_intent': None,\n",
              "   'ranking': [],\n",
              "   'response': {'confidence': 0.0, 'name': None}}},\n",
              " 'text': 'Add Starships to pop, please'}"
            ]
          },
          "execution_count": 8,
          "metadata": {},
          "output_type": "execute_result"
        }
      ],
      "source": [
        "interpreter.parse(\"Add Starships to pop, please\")"
      ]
    }
  ],
  "metadata": {
    "accelerator": "GPU",
    "colab": {
      "collapsed_sections": [],
      "name": "entity_extraction_2.ipynb",
      "provenance": []
    },
    "kernelspec": {
      "display_name": "Python 3",
      "name": "python3"
    },
    "language_info": {
      "name": "python"
    }
  },
  "nbformat": 4,
  "nbformat_minor": 0
}
